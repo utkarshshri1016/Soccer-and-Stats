{
 "cells": [
  {
   "cell_type": "markdown",
   "metadata": {},
   "source": [
    "# Tutorial: Learn machine learning models\n",
    "\n",
    "This tutorial demonstrates how to learn machine learning models to value on-the-ball actions of football players with the open-source [VAEP framework](https://github.com/ML-KULeuven/socceraction) using the publicly available [Wyscout match event dataset](https://figshare.com/collections/Soccer_match_event_dataset/4415000). The Wyscout dataset includes data for the 2017/2018 English Premier League, the 2017/2018 Spanish Primera División, the 2017/2018 German 1. Bundesliga, the 2017/2018 Italian Serie A, the 2017/2018 French Ligue 1, the 2018 FIFA World Cup, and the UEFA Euro 2016. Covering 1,941 matches, 3,251,294 events and 4,299 players, the dataset is large enough to train machine-learning models and obtain robust ratings for the players.\n",
    "\n",
    "This tutorial demonstrates the following four steps:\n",
    "1. Split the dataset into a training set and a test set.\n",
    "2. Construct the baseline classifiers by using conservative hyperparameters for the learning algorithm.\n",
    "3. Optimize the classifiers by tuning the hyperparameters for the learning algorithm.\n",
    "4. Construct the final classifiers using the optimal hyperparameters for the learning algorithm.\n",
    "\n",
    "**Conventions:**\n",
    "* Variables that refer a `DataFrame` object are prefixed with `df_`.\n",
    "* Variables that refer a collection of `DataFrame` objects (e.g., a list, a set or a dict) are prefixed with `dfs_`.\n",
    "\n",
    "**References:**\n",
    "* Tom Decroos, Lotte Bransen, Jan Van Haaren, and Jesse Davis. \"[Actions Speak Louder than Goals: Valuing Player Actions in Soccer.](https://arxiv.org/abs/1802.07127)\" In *Proceedings of the 25th ACM SIGKDD International Conference on Knowledge Discovery & Data Mining*, pp. 1851-1861. 2019.\n",
    "* Luca Pappalardo, Paolo Cintia, Alessio Rossi, Emanuele Massucco, Paolo Ferragina, Dino Pedreschi, and Fosca Giannotti. \"[A Public Data Set of Spatio-Temporal Match Events in Soccer Competitions.](https://www.nature.com/articles/s41597-019-0247-7)\" *Scientific Data 6*, no. 1 (2019): 1-15."
   ]
  },
  {
   "cell_type": "markdown",
   "metadata": {},
   "source": [
    "**Optional:** If you run this notebook on Google Colab, then uncomment the code in the following cell and execute the cell."
   ]
  },
  {
   "cell_type": "code",
   "execution_count": 1,
   "metadata": {},
   "outputs": [],
   "source": [
    "# !pip install tables==3.6.1\n",
    "# !pip install scikit-plot"
   ]
  },
  {
   "cell_type": "markdown",
   "metadata": {},
   "source": [
    "**Optional:** If you run this notebook on Google Colab and wish to store all data in a Google Drive folder, then uncomment the code in the following cell and execute the cell."
   ]
  },
  {
   "cell_type": "code",
   "execution_count": null,
   "metadata": {},
   "outputs": [],
   "source": [
    "# from google.colab import drive\n",
    "# drive.mount('/content/gdrive')\n",
    "# %mkdir -p '/content/gdrive/My Drive/Friends of Tracking/'\n",
    "# %cd '/content/gdrive/My Drive/Friends of Tracking/'"
   ]
  },
  {
   "cell_type": "code",
   "execution_count": 1,
   "metadata": {},
   "outputs": [],
   "source": [
    "from tqdm.notebook import tqdm\n",
    "\n",
    "%matplotlib inline"
   ]
  },
  {
   "cell_type": "code",
   "execution_count": 2,
   "metadata": {},
   "outputs": [],
   "source": [
    "import matplotlib.pyplot as plt\n",
    "import math\n",
    "import numpy as np\n",
    "import pandas as pd  # version 1.0.3\n",
    "\n",
    "from sklearn.metrics import brier_score_loss, roc_auc_score  # version 0.22.2\n",
    "from sklearn.model_selection import train_test_split, GridSearchCV  # version 0.22.2\n",
    "from sklearn.calibration import CalibratedClassifierCV  # version 0.22.2\n",
    "\n",
    "from scikitplot.metrics import plot_calibration_curve\n",
    "\n",
    "from xgboost import XGBClassifier  # version 1.0.2"
   ]
  },
  {
   "cell_type": "code",
   "execution_count": 3,
   "metadata": {},
   "outputs": [],
   "source": [
    "import warnings\n",
    "warnings.filterwarnings('ignore', category=pd.io.pytables.PerformanceWarning)"
   ]
  },
  {
   "cell_type": "markdown",
   "metadata": {},
   "source": [
    "# Load dataset"
   ]
  },
  {
   "cell_type": "markdown",
   "metadata": {},
   "source": [
    "This third tutorial assumes that the `spadl.h5` HDF5 file as well as the `features.h5` and `labels.h5` files have been created for a set of games in the first or second tutorial.\n",
    "\n",
    "This third tutorial only uses features that have been generated in the first tutorial. However, you are strongly encouraged to toy around with the additional features from the second tutorial and to try out your own features to improve the accuracy of the predictive machine learning models!"
   ]
  },
  {
   "cell_type": "markdown",
   "metadata": {},
   "source": [
    "## Load games"
   ]
  },
  {
   "cell_type": "code",
   "execution_count": 4,
   "metadata": {},
   "outputs": [],
   "source": [
    "df_games = pd.read_hdf('spadl.h5', key='games')"
   ]
  },
  {
   "cell_type": "markdown",
   "metadata": {},
   "source": [
    "**Optional:** If you plan to produce results for a particular season in the Wyscout match event dataset (e.g., 2017/2018 English Premier League), you should consider leaving that season out of the dataset to avoid the same game states from appearing in both the training set and the test set. If you would like to only include a particular subset of games, then uncomment the code in the following cell, adapt the selector and execute the cell. The example selector will select all games that were played in the 2017/2018 English Premier League."
   ]
  },
  {
   "cell_type": "code",
   "execution_count": null,
   "metadata": {},
   "outputs": [],
   "source": [
    "# df_games = df_games[\n",
    "#     df_games['competition_id'] == 364\n",
    "# ]"
   ]
  },
  {
   "cell_type": "code",
   "execution_count": null,
   "metadata": {},
   "outputs": [],
   "source": [
    "df_games.tail(10)"
   ]
  },
  {
   "cell_type": "markdown",
   "metadata": {},
   "source": [
    "## Load features"
   ]
  },
  {
   "cell_type": "markdown",
   "metadata": {},
   "source": [
    "Load the *features* for the selected games and combine them into the `df_features` `DataFrame` object."
   ]
  },
  {
   "cell_type": "code",
   "execution_count": 5,
   "metadata": {
    "tags": []
   },
   "outputs": [
    {
     "output_type": "display_data",
     "data": {
      "text/plain": "HBox(children=(FloatProgress(value=0.0, max=380.0), HTML(value='')))",
      "application/vnd.jupyter.widget-view+json": {
       "version_major": 2,
       "version_minor": 0,
       "model_id": "af838f53e7db4827b8e3f01cde3bd3f9"
      }
     },
     "metadata": {}
    },
    {
     "output_type": "stream",
     "name": "stdout",
     "text": "\n"
    }
   ],
   "source": [
    "dfs_features = []\n",
    "for _, game in tqdm(df_games.iterrows(), total=len(df_games)):\n",
    "    game_id = game['game_id']\n",
    "    df_features = pd.read_hdf('features.h5', key=f'game_{game_id}')\n",
    "    df_features['game_id'] = game_id\n",
    "    dfs_features.append(df_features)\n",
    "df_features = pd.concat(dfs_features).reset_index(drop=True)"
   ]
  },
  {
   "cell_type": "code",
   "execution_count": 25,
   "metadata": {},
   "outputs": [
    {
     "output_type": "execute_result",
     "data": {
      "text/plain": "        game_id-0  period_id-0  time_seconds-0  team_id-0  player_id-0  \\\n483655  2499719.0          2.0     2983.268603     1609.0      14869.0   \n483656  2499719.0          2.0     2985.152095     1631.0       8488.0   \n483657  2499719.0          2.0     2985.152095     1631.0       8488.0   \n483658  2499719.0          2.0     2986.855919     1631.0     265366.0   \n483659  2499719.0          2.0     2988.398325     1609.0       7870.0   \n483660  2499719.0          2.0     2990.768201     1631.0       8653.0   \n483661  2499719.0          2.0     2992.491575     1631.0       8480.0   \n483662  2499719.0          2.0     2994.900590     1609.0      49876.0   \n483663  2499719.0          2.0     2997.086392     1609.0       7870.0   \n483664  2499719.0          2.0     3006.647279     1631.0       8480.0   \n\n        start_x-0  start_y-0  end_x-0  end_y-0  bodypart_id-0  ...  \\\n483655      60.90      57.12    84.00    52.36              0  ...   \n483656      84.00      52.36    84.00    52.36              0  ...   \n483657      84.00      52.36    78.75    48.96              1  ...   \n483658      78.75      48.96    73.50    46.24              0  ...   \n483659      73.50      46.24    93.45    46.24              0  ...   \n483660      93.45      46.24    97.65    36.04              0  ...   \n483661      97.65      36.04    56.70    33.32              0  ...   \n483662      56.70      33.32    76.65    28.56              1  ...   \n483663      76.65      28.56   105.00    27.20              0  ...   \n483664     100.00      34.00     0.00    68.00              0  ...   \n\n        end_x_norm-2  end_y_norm-2 end_distance_to_goal-2 end_angle_to_goal-2  \\\n483655          0.62          0.70              42.154122            2.933824   \n483656          0.54          0.87              54.460220            1.919714   \n483657          0.20          0.23              85.983077            4.575163   \n483658          0.80          0.77              27.894257            1.143791   \n483659          0.25          0.28              80.158369            5.264037   \n483660          0.70          0.68              33.794491            2.573529   \n483661          0.11          0.32              94.248184            7.634804   \n483662          0.07          0.47              97.671306           47.867647   \n483663          0.46          0.51              56.704077           83.382353   \n483664          0.27          0.58              76.842801           14.090074   \n\n       xdiff_sequence_pre  ydiff_sequence_pre  time_sequence_pre  \\\n483655              37.80              -10.88          58.296128   \n483656              27.30               -6.80          55.358314   \n483657              39.90               41.48           1.883492   \n483658              -5.25               -3.40           1.703824   \n483659              52.50               30.60           3.246230   \n483660              14.70               -2.72           3.912282   \n483661              66.15               14.28           4.093250   \n483662              45.15               11.56           4.132389   \n483663              69.30               -3.40           4.594817   \n483664              51.70               -0.68          11.746689   \n\n        xdiff_sequence_post  ydiff_sequence_post  game_id  \n483655                60.90               -15.64  2499719  \n483656                27.30                -6.80  2499719  \n483657                34.65                38.08  2499719  \n483658               -10.50                -6.12  2499719  \n483659                72.45                30.60  2499719  \n483660                18.90               -12.92  2499719  \n483661                25.20                11.56  2499719  \n483662                65.10                 6.80  2499719  \n483663                97.65                -4.76  2499719  \n483664               -48.30                33.32  2499719  \n\n[10 rows x 89 columns]",
      "text/html": "<div>\n<style scoped>\n    .dataframe tbody tr th:only-of-type {\n        vertical-align: middle;\n    }\n\n    .dataframe tbody tr th {\n        vertical-align: top;\n    }\n\n    .dataframe thead th {\n        text-align: right;\n    }\n</style>\n<table border=\"1\" class=\"dataframe\">\n  <thead>\n    <tr style=\"text-align: right;\">\n      <th></th>\n      <th>game_id-0</th>\n      <th>period_id-0</th>\n      <th>time_seconds-0</th>\n      <th>team_id-0</th>\n      <th>player_id-0</th>\n      <th>start_x-0</th>\n      <th>start_y-0</th>\n      <th>end_x-0</th>\n      <th>end_y-0</th>\n      <th>bodypart_id-0</th>\n      <th>...</th>\n      <th>end_x_norm-2</th>\n      <th>end_y_norm-2</th>\n      <th>end_distance_to_goal-2</th>\n      <th>end_angle_to_goal-2</th>\n      <th>xdiff_sequence_pre</th>\n      <th>ydiff_sequence_pre</th>\n      <th>time_sequence_pre</th>\n      <th>xdiff_sequence_post</th>\n      <th>ydiff_sequence_post</th>\n      <th>game_id</th>\n    </tr>\n  </thead>\n  <tbody>\n    <tr>\n      <th>483655</th>\n      <td>2499719.0</td>\n      <td>2.0</td>\n      <td>2983.268603</td>\n      <td>1609.0</td>\n      <td>14869.0</td>\n      <td>60.90</td>\n      <td>57.12</td>\n      <td>84.00</td>\n      <td>52.36</td>\n      <td>0</td>\n      <td>...</td>\n      <td>0.62</td>\n      <td>0.70</td>\n      <td>42.154122</td>\n      <td>2.933824</td>\n      <td>37.80</td>\n      <td>-10.88</td>\n      <td>58.296128</td>\n      <td>60.90</td>\n      <td>-15.64</td>\n      <td>2499719</td>\n    </tr>\n    <tr>\n      <th>483656</th>\n      <td>2499719.0</td>\n      <td>2.0</td>\n      <td>2985.152095</td>\n      <td>1631.0</td>\n      <td>8488.0</td>\n      <td>84.00</td>\n      <td>52.36</td>\n      <td>84.00</td>\n      <td>52.36</td>\n      <td>0</td>\n      <td>...</td>\n      <td>0.54</td>\n      <td>0.87</td>\n      <td>54.460220</td>\n      <td>1.919714</td>\n      <td>27.30</td>\n      <td>-6.80</td>\n      <td>55.358314</td>\n      <td>27.30</td>\n      <td>-6.80</td>\n      <td>2499719</td>\n    </tr>\n    <tr>\n      <th>483657</th>\n      <td>2499719.0</td>\n      <td>2.0</td>\n      <td>2985.152095</td>\n      <td>1631.0</td>\n      <td>8488.0</td>\n      <td>84.00</td>\n      <td>52.36</td>\n      <td>78.75</td>\n      <td>48.96</td>\n      <td>1</td>\n      <td>...</td>\n      <td>0.20</td>\n      <td>0.23</td>\n      <td>85.983077</td>\n      <td>4.575163</td>\n      <td>39.90</td>\n      <td>41.48</td>\n      <td>1.883492</td>\n      <td>34.65</td>\n      <td>38.08</td>\n      <td>2499719</td>\n    </tr>\n    <tr>\n      <th>483658</th>\n      <td>2499719.0</td>\n      <td>2.0</td>\n      <td>2986.855919</td>\n      <td>1631.0</td>\n      <td>265366.0</td>\n      <td>78.75</td>\n      <td>48.96</td>\n      <td>73.50</td>\n      <td>46.24</td>\n      <td>0</td>\n      <td>...</td>\n      <td>0.80</td>\n      <td>0.77</td>\n      <td>27.894257</td>\n      <td>1.143791</td>\n      <td>-5.25</td>\n      <td>-3.40</td>\n      <td>1.703824</td>\n      <td>-10.50</td>\n      <td>-6.12</td>\n      <td>2499719</td>\n    </tr>\n    <tr>\n      <th>483659</th>\n      <td>2499719.0</td>\n      <td>2.0</td>\n      <td>2988.398325</td>\n      <td>1609.0</td>\n      <td>7870.0</td>\n      <td>73.50</td>\n      <td>46.24</td>\n      <td>93.45</td>\n      <td>46.24</td>\n      <td>0</td>\n      <td>...</td>\n      <td>0.25</td>\n      <td>0.28</td>\n      <td>80.158369</td>\n      <td>5.264037</td>\n      <td>52.50</td>\n      <td>30.60</td>\n      <td>3.246230</td>\n      <td>72.45</td>\n      <td>30.60</td>\n      <td>2499719</td>\n    </tr>\n    <tr>\n      <th>483660</th>\n      <td>2499719.0</td>\n      <td>2.0</td>\n      <td>2990.768201</td>\n      <td>1631.0</td>\n      <td>8653.0</td>\n      <td>93.45</td>\n      <td>46.24</td>\n      <td>97.65</td>\n      <td>36.04</td>\n      <td>0</td>\n      <td>...</td>\n      <td>0.70</td>\n      <td>0.68</td>\n      <td>33.794491</td>\n      <td>2.573529</td>\n      <td>14.70</td>\n      <td>-2.72</td>\n      <td>3.912282</td>\n      <td>18.90</td>\n      <td>-12.92</td>\n      <td>2499719</td>\n    </tr>\n    <tr>\n      <th>483661</th>\n      <td>2499719.0</td>\n      <td>2.0</td>\n      <td>2992.491575</td>\n      <td>1631.0</td>\n      <td>8480.0</td>\n      <td>97.65</td>\n      <td>36.04</td>\n      <td>56.70</td>\n      <td>33.32</td>\n      <td>0</td>\n      <td>...</td>\n      <td>0.11</td>\n      <td>0.32</td>\n      <td>94.248184</td>\n      <td>7.634804</td>\n      <td>66.15</td>\n      <td>14.28</td>\n      <td>4.093250</td>\n      <td>25.20</td>\n      <td>11.56</td>\n      <td>2499719</td>\n    </tr>\n    <tr>\n      <th>483662</th>\n      <td>2499719.0</td>\n      <td>2.0</td>\n      <td>2994.900590</td>\n      <td>1609.0</td>\n      <td>49876.0</td>\n      <td>56.70</td>\n      <td>33.32</td>\n      <td>76.65</td>\n      <td>28.56</td>\n      <td>1</td>\n      <td>...</td>\n      <td>0.07</td>\n      <td>0.47</td>\n      <td>97.671306</td>\n      <td>47.867647</td>\n      <td>45.15</td>\n      <td>11.56</td>\n      <td>4.132389</td>\n      <td>65.10</td>\n      <td>6.80</td>\n      <td>2499719</td>\n    </tr>\n    <tr>\n      <th>483663</th>\n      <td>2499719.0</td>\n      <td>2.0</td>\n      <td>2997.086392</td>\n      <td>1609.0</td>\n      <td>7870.0</td>\n      <td>76.65</td>\n      <td>28.56</td>\n      <td>105.00</td>\n      <td>27.20</td>\n      <td>0</td>\n      <td>...</td>\n      <td>0.46</td>\n      <td>0.51</td>\n      <td>56.704077</td>\n      <td>83.382353</td>\n      <td>69.30</td>\n      <td>-3.40</td>\n      <td>4.594817</td>\n      <td>97.65</td>\n      <td>-4.76</td>\n      <td>2499719</td>\n    </tr>\n    <tr>\n      <th>483664</th>\n      <td>2499719.0</td>\n      <td>2.0</td>\n      <td>3006.647279</td>\n      <td>1631.0</td>\n      <td>8480.0</td>\n      <td>100.00</td>\n      <td>34.00</td>\n      <td>0.00</td>\n      <td>68.00</td>\n      <td>0</td>\n      <td>...</td>\n      <td>0.27</td>\n      <td>0.58</td>\n      <td>76.842801</td>\n      <td>14.090074</td>\n      <td>51.70</td>\n      <td>-0.68</td>\n      <td>11.746689</td>\n      <td>-48.30</td>\n      <td>33.32</td>\n      <td>2499719</td>\n    </tr>\n  </tbody>\n</table>\n<p>10 rows × 89 columns</p>\n</div>"
     },
     "metadata": {},
     "execution_count": 25
    }
   ],
   "source": [
    "df_features.tail(10)"
   ]
  },
  {
   "cell_type": "markdown",
   "metadata": {},
   "source": [
    "## Load labels"
   ]
  },
  {
   "cell_type": "markdown",
   "metadata": {},
   "source": [
    "Load the *labels* for the selected games and combine them into the `df_labels` `DataFrame` object."
   ]
  },
  {
   "cell_type": "code",
   "execution_count": 8,
   "metadata": {
    "tags": []
   },
   "outputs": [
    {
     "output_type": "display_data",
     "data": {
      "text/plain": "HBox(children=(FloatProgress(value=0.0, max=380.0), HTML(value='')))",
      "application/vnd.jupyter.widget-view+json": {
       "version_major": 2,
       "version_minor": 0,
       "model_id": "5f57e933ff0440eca91a4d6dc6a31d70"
      }
     },
     "metadata": {}
    },
    {
     "output_type": "stream",
     "name": "stdout",
     "text": "\n"
    }
   ],
   "source": [
    "dfs_labels = []\n",
    "for _, game in tqdm(df_games.iterrows(), total=len(df_games)):\n",
    "    game_id = game['game_id']  \n",
    "    df_labels = pd.read_hdf('labels.h5', key=f'game_{game_id}')\n",
    "    df_labels['game_id'] = game_id\n",
    "    dfs_labels.append(df_labels)\n",
    "df_labels = pd.concat(dfs_labels).reset_index(drop=True)"
   ]
  },
  {
   "cell_type": "code",
   "execution_count": 9,
   "metadata": {},
   "outputs": [
    {
     "output_type": "execute_result",
     "data": {
      "text/plain": "        scores  concedes  game_id\n483655   False     False  2499719\n483656   False     False  2499719\n483657   False     False  2499719\n483658   False     False  2499719\n483659   False     False  2499719\n483660   False     False  2499719\n483661   False     False  2499719\n483662   False     False  2499719\n483663   False     False  2499719\n483664   False     False  2499719",
      "text/html": "<div>\n<style scoped>\n    .dataframe tbody tr th:only-of-type {\n        vertical-align: middle;\n    }\n\n    .dataframe tbody tr th {\n        vertical-align: top;\n    }\n\n    .dataframe thead th {\n        text-align: right;\n    }\n</style>\n<table border=\"1\" class=\"dataframe\">\n  <thead>\n    <tr style=\"text-align: right;\">\n      <th></th>\n      <th>scores</th>\n      <th>concedes</th>\n      <th>game_id</th>\n    </tr>\n  </thead>\n  <tbody>\n    <tr>\n      <th>483655</th>\n      <td>False</td>\n      <td>False</td>\n      <td>2499719</td>\n    </tr>\n    <tr>\n      <th>483656</th>\n      <td>False</td>\n      <td>False</td>\n      <td>2499719</td>\n    </tr>\n    <tr>\n      <th>483657</th>\n      <td>False</td>\n      <td>False</td>\n      <td>2499719</td>\n    </tr>\n    <tr>\n      <th>483658</th>\n      <td>False</td>\n      <td>False</td>\n      <td>2499719</td>\n    </tr>\n    <tr>\n      <th>483659</th>\n      <td>False</td>\n      <td>False</td>\n      <td>2499719</td>\n    </tr>\n    <tr>\n      <th>483660</th>\n      <td>False</td>\n      <td>False</td>\n      <td>2499719</td>\n    </tr>\n    <tr>\n      <th>483661</th>\n      <td>False</td>\n      <td>False</td>\n      <td>2499719</td>\n    </tr>\n    <tr>\n      <th>483662</th>\n      <td>False</td>\n      <td>False</td>\n      <td>2499719</td>\n    </tr>\n    <tr>\n      <th>483663</th>\n      <td>False</td>\n      <td>False</td>\n      <td>2499719</td>\n    </tr>\n    <tr>\n      <th>483664</th>\n      <td>False</td>\n      <td>False</td>\n      <td>2499719</td>\n    </tr>\n  </tbody>\n</table>\n</div>"
     },
     "metadata": {},
     "execution_count": 9
    }
   ],
   "source": [
    "df_labels.tail(10)"
   ]
  },
  {
   "cell_type": "markdown",
   "metadata": {},
   "source": [
    "# Split dataset"
   ]
  },
  {
   "cell_type": "markdown",
   "metadata": {},
   "source": [
    "To accurately predict the labels for game states, the challenge is to train a robust machine learning model that generalizes well from *observed* game states (e.g., game states in games that have been played already) to *unobserved* game states (e.g., game states in games that are yet to be played). Hence, the machine learning model needs to capture interactions between features of game states that are not too specific to identify *similar* game states yet specific enough to distinguish between *dissimilar* game states.\n",
    "\n",
    "Typically, a machine learning model is said to be *overfitted* on the data if the interactions are too specific (i.e., apply to just a few game states) and is said to be *underfitted* on the data if the interactions are too general (i.e., apply to about all game states). To avoid underfitting, we define an expressive set of features and use a machine learning algorithm that learns a model that can capture complex relationships between these features. To avoid overfitting, we apply [cross-validation](https://scikit-learn.org/stable/modules/cross_validation.html) to assess how well a candidate model would perform in practice and apply regularization techniques to keep the learned model as simple as possible.\n",
    "\n",
    "In this tutorial, we will apply the following methodology:\n",
    "1. Split the available data into a training set and a test set. The training set will be used to learn the machine learning model, whereas the test set will be kept aside until the very end to assess the real-world performance of the learned model.\n",
    "2. Learn models with different values for the hyperparameters of the learning algorithm on the training set by adopting a $k$-fold cross-validation setup:\n",
    "  * Split the training set in $k$ random folds or subsets of equal size.\n",
    "  * Use $k$-1 training folds to train the model and compute the evaluation metric on the remaining validation fold.\n",
    "  * Repeat $k$ times until each fold has served as the validation fold once.\n",
    "3. Select the values for the hyperparameters that yield the best performance across the $k$ validation folds according to the evaluation metric.\n",
    "4. Train the final model on the full training set using the optimal values for the hyperparameters.\n",
    "5. Apply the final model on the test set and compute the evaluation metric."
   ]
  },
  {
   "cell_type": "markdown",
   "metadata": {},
   "source": [
    "The following cell splits the available data into a training set and test set using the `train_test_split` function.\n",
    "\n",
    "* **Test set size:** The `test_size` parameter controls the number of examples in the test set. The challenge is to find an appropriate balance between the number of training examples and the number of test examples. Typically, more training examples yield better models, whereas more test examples yield more reliable evaluation metrics.\n",
    "* **Random state:** The `random_state` parameter sets the *seed* for the random number generator. By setting a *seed*, the train-test split will be the same for each execution of the `train_test_split` function, which is important for reproducing the results and comparing different models.\n",
    "* **Stratification:** The `stratify` parameter enforces a *stratified* train-test split according to the provided class label. By doing so, the distribution of the provided class label will be the same in the training set and the test set, which can be helpful to obtain a well-calibrated model. Since we will be using two different class labels (i.e., `scores` and `concedes`), we use a concatenation of both class labels for the stratification procedure."
   ]
  },
  {
   "cell_type": "code",
   "execution_count": 10,
   "metadata": {},
   "outputs": [],
   "source": [
    "df_X_train, df_X_test, df_y_train, df_y_test = train_test_split(\n",
    "    df_features,\n",
    "    df_labels,\n",
    "    test_size=0.10,\n",
    "    random_state=42,\n",
    "    stratify=df_labels['scores'].astype(str) + '_' + df_labels['concedes'].astype(str)\n",
    ")"
   ]
  },
  {
   "cell_type": "markdown",
   "metadata": {},
   "source": [
    "The following cells inspect whether the training set and test set have the same proportion of positive and negative examples for each class."
   ]
  },
  {
   "cell_type": "code",
   "execution_count": 11,
   "metadata": {},
   "outputs": [
    {
     "output_type": "execute_result",
     "data": {
      "text/plain": "0.01560769863403921"
     },
     "metadata": {},
     "execution_count": 11
    }
   ],
   "source": [
    "df_y_train['scores'].mean()"
   ]
  },
  {
   "cell_type": "code",
   "execution_count": 12,
   "metadata": {},
   "outputs": [
    {
     "output_type": "execute_result",
     "data": {
      "text/plain": "0.015609816610498893"
     },
     "metadata": {},
     "execution_count": 12
    }
   ],
   "source": [
    "df_y_test['scores'].mean()"
   ]
  },
  {
   "cell_type": "code",
   "execution_count": 13,
   "metadata": {},
   "outputs": [
    {
     "output_type": "execute_result",
     "data": {
      "text/plain": "0.004789822144829519"
     },
     "metadata": {},
     "execution_count": 13
    }
   ],
   "source": [
    "df_y_train['concedes'].mean()"
   ]
  },
  {
   "cell_type": "code",
   "execution_count": 14,
   "metadata": {},
   "outputs": [
    {
     "output_type": "execute_result",
     "data": {
      "text/plain": "0.00479665887898774"
     },
     "metadata": {},
     "execution_count": 14
    }
   ],
   "source": [
    "df_y_test['concedes'].mean()"
   ]
  },
  {
   "cell_type": "markdown",
   "metadata": {},
   "source": [
    "**Note:** In a real-world scenario where more data is available, you should consider respecting the chronological order of the games to construct the training set, validation set and test set. For instance, use the data for the 2016/2017 and 2017/2018 seasons to train the models, use the data for the 2018/2019 season to tune the models, and use the data for the 2019/2020 season to obtain the results."
   ]
  },
  {
   "cell_type": "markdown",
   "metadata": {},
   "source": [
    "# Construct baseline classifiers"
   ]
  },
  {
   "cell_type": "markdown",
   "metadata": {},
   "source": [
    "The following cell provides a list of features that the machine learning algorithm will consider to train the model."
   ]
  },
  {
   "cell_type": "code",
   "execution_count": 29,
   "metadata": {},
   "outputs": [],
   "source": [
    "features = [\n",
    "    #'start_dist_to_goal-0',\n",
    "    #'end_dist_to_goal-0',\n",
    "    #'start_dist_to_goal-1',\n",
    "    #'end_dist_to_goal-1',\n",
    "    #'start_dist_to_goal-2',\n",
    "    #'end_dist_to_goal-2',\n",
    "    'start_angle_to_goal-0',\n",
    "    'end_angle_to_goal-0',\n",
    "    'start_angle_to_goal-1',\n",
    "    'end_angle_to_goal-1',\n",
    "    'start_angle_to_goal-2',\n",
    "    'end_angle_to_goal-2',\n",
    "    'team-1',\n",
    "    'team-2'\n",
    "]"
   ]
  },
  {
   "cell_type": "markdown",
   "metadata": {},
   "source": [
    "The following cell provides a list of class labels for which the machine learning algorithm will train a model.\n",
    "\n",
    "**Note:** The `concedes` class label has been commented to speed up the execution of the entire notebook."
   ]
  },
  {
   "cell_type": "code",
   "execution_count": 30,
   "metadata": {},
   "outputs": [],
   "source": [
    "labels = [\n",
    "    'scores',\n",
    "#     'concedes'\n",
    "]"
   ]
  },
  {
   "cell_type": "markdown",
   "metadata": {},
   "source": [
    "## Train classifiers"
   ]
  },
  {
   "cell_type": "markdown",
   "metadata": {},
   "source": [
    "The following cell trains an XGBoost classifier for each label using *conservative* hyperparamters for the learning algorithm, which will serve as *baseline* models."
   ]
  },
  {
   "cell_type": "code",
   "execution_count": 31,
   "metadata": {
    "tags": []
   },
   "outputs": [
    {
     "output_type": "display_data",
     "data": {
      "text/plain": "HBox(children=(FloatProgress(value=0.0, max=1.0), HTML(value='')))",
      "application/vnd.jupyter.widget-view+json": {
       "version_major": 2,
       "version_minor": 0,
       "model_id": "7bdfcf9aa89e4e579b157536609c876e"
      }
     },
     "metadata": {}
    },
    {
     "output_type": "stream",
     "name": "stdout",
     "text": "\nWall time: 20.5 s\n"
    }
   ],
   "source": [
    "%%time\n",
    "models = {}\n",
    "for label in tqdm(labels):\n",
    "    model = XGBClassifier(\n",
    "        n_estimators=10,\n",
    "        max_depth=3\n",
    "    )\n",
    "    model.fit(\n",
    "        X=df_X_train[features],\n",
    "        y=df_y_train[label]\n",
    "    )\n",
    "    models[label] = model"
   ]
  },
  {
   "cell_type": "markdown",
   "metadata": {},
   "source": [
    "## Estimate probabilities"
   ]
  },
  {
   "cell_type": "markdown",
   "metadata": {},
   "source": [
    "The following cell estimates the probabilities for each label using the trained *baseline* models."
   ]
  },
  {
   "cell_type": "code",
   "execution_count": 32,
   "metadata": {
    "tags": []
   },
   "outputs": [
    {
     "output_type": "display_data",
     "data": {
      "text/plain": "HBox(children=(FloatProgress(value=0.0, max=1.0), HTML(value='')))",
      "application/vnd.jupyter.widget-view+json": {
       "version_major": 2,
       "version_minor": 0,
       "model_id": "ffedb64a50a645a285faf901d86af9b9"
      }
     },
     "metadata": {}
    },
    {
     "output_type": "stream",
     "name": "stdout",
     "text": "\n"
    }
   ],
   "source": [
    "dfs_predictions = {}\n",
    "for label in tqdm(labels):\n",
    "    model = models[label]\n",
    "    probabilities = model.predict_proba(\n",
    "        df_X_test[features]\n",
    "    )\n",
    "    predictions = probabilities[:, 1]\n",
    "    dfs_predictions[label] = pd.Series(predictions, index=df_X_test.index)\n",
    "df_predictions = pd.concat(dfs_predictions, axis=1)"
   ]
  },
  {
   "cell_type": "code",
   "execution_count": 33,
   "metadata": {},
   "outputs": [
    {
     "output_type": "execute_result",
     "data": {
      "text/plain": "          scores\n1259    0.030675\n194670  0.033089\n328619  0.034096\n271648  0.036768\n402001  0.030675\n357918  0.036761\n402699  0.030675\n157709  0.034096\n113662  0.034096\n207848  0.108245",
      "text/html": "<div>\n<style scoped>\n    .dataframe tbody tr th:only-of-type {\n        vertical-align: middle;\n    }\n\n    .dataframe tbody tr th {\n        vertical-align: top;\n    }\n\n    .dataframe thead th {\n        text-align: right;\n    }\n</style>\n<table border=\"1\" class=\"dataframe\">\n  <thead>\n    <tr style=\"text-align: right;\">\n      <th></th>\n      <th>scores</th>\n    </tr>\n  </thead>\n  <tbody>\n    <tr>\n      <th>1259</th>\n      <td>0.030675</td>\n    </tr>\n    <tr>\n      <th>194670</th>\n      <td>0.033089</td>\n    </tr>\n    <tr>\n      <th>328619</th>\n      <td>0.034096</td>\n    </tr>\n    <tr>\n      <th>271648</th>\n      <td>0.036768</td>\n    </tr>\n    <tr>\n      <th>402001</th>\n      <td>0.030675</td>\n    </tr>\n    <tr>\n      <th>357918</th>\n      <td>0.036761</td>\n    </tr>\n    <tr>\n      <th>402699</th>\n      <td>0.030675</td>\n    </tr>\n    <tr>\n      <th>157709</th>\n      <td>0.034096</td>\n    </tr>\n    <tr>\n      <th>113662</th>\n      <td>0.034096</td>\n    </tr>\n    <tr>\n      <th>207848</th>\n      <td>0.108245</td>\n    </tr>\n  </tbody>\n</table>\n</div>"
     },
     "metadata": {},
     "execution_count": 33
    }
   ],
   "source": [
    "df_predictions.head(10)"
   ]
  },
  {
   "cell_type": "markdown",
   "metadata": {},
   "source": [
    "## Evaluate probabilities"
   ]
  },
  {
   "cell_type": "markdown",
   "metadata": {},
   "source": [
    "### Compute base rate probabilities"
   ]
  },
  {
   "cell_type": "markdown",
   "metadata": {},
   "source": [
    "The following cell computes the *base rate* or *prior probability* of each class label in the training set. We use the *base rate* as a naive estimate for each example in the test set being true to establish a baseline for the evaluation metrics."
   ]
  },
  {
   "cell_type": "code",
   "execution_count": 34,
   "metadata": {},
   "outputs": [],
   "source": [
    "df_base_rates = pd.DataFrame({\n",
    "    label:np.full(len(df_y_test[label]), df_y_train[label].mean()) for label in labels\n",
    "})"
   ]
  },
  {
   "cell_type": "code",
   "execution_count": 35,
   "metadata": {},
   "outputs": [
    {
     "output_type": "execute_result",
     "data": {
      "text/plain": "     scores\n0  0.015608\n1  0.015608\n2  0.015608\n3  0.015608\n4  0.015608\n5  0.015608\n6  0.015608\n7  0.015608\n8  0.015608\n9  0.015608",
      "text/html": "<div>\n<style scoped>\n    .dataframe tbody tr th:only-of-type {\n        vertical-align: middle;\n    }\n\n    .dataframe tbody tr th {\n        vertical-align: top;\n    }\n\n    .dataframe thead th {\n        text-align: right;\n    }\n</style>\n<table border=\"1\" class=\"dataframe\">\n  <thead>\n    <tr style=\"text-align: right;\">\n      <th></th>\n      <th>scores</th>\n    </tr>\n  </thead>\n  <tbody>\n    <tr>\n      <th>0</th>\n      <td>0.015608</td>\n    </tr>\n    <tr>\n      <th>1</th>\n      <td>0.015608</td>\n    </tr>\n    <tr>\n      <th>2</th>\n      <td>0.015608</td>\n    </tr>\n    <tr>\n      <th>3</th>\n      <td>0.015608</td>\n    </tr>\n    <tr>\n      <th>4</th>\n      <td>0.015608</td>\n    </tr>\n    <tr>\n      <th>5</th>\n      <td>0.015608</td>\n    </tr>\n    <tr>\n      <th>6</th>\n      <td>0.015608</td>\n    </tr>\n    <tr>\n      <th>7</th>\n      <td>0.015608</td>\n    </tr>\n    <tr>\n      <th>8</th>\n      <td>0.015608</td>\n    </tr>\n    <tr>\n      <th>9</th>\n      <td>0.015608</td>\n    </tr>\n  </tbody>\n</table>\n</div>"
     },
     "metadata": {},
     "execution_count": 35
    }
   ],
   "source": [
    "df_base_rates.head(10)"
   ]
  },
  {
   "cell_type": "markdown",
   "metadata": {},
   "source": [
    "### Compute Brier score loss for goal scored model"
   ]
  },
  {
   "cell_type": "markdown",
   "metadata": {},
   "source": [
    "The following cell computes the [Brier loss score](https://en.wikipedia.org/wiki/Brier_score) for the base rate predictions."
   ]
  },
  {
   "cell_type": "code",
   "execution_count": 36,
   "metadata": {},
   "outputs": [
    {
     "output_type": "execute_result",
     "data": {
      "text/plain": "0.015366150240371317"
     },
     "metadata": {},
     "execution_count": 36
    }
   ],
   "source": []
  },
  {
   "cell_type": "markdown",
   "metadata": {},
   "source": [
    "The following cell computes the [Brier loss score](https://en.wikipedia.org/wiki/Brier_score) for the predictions by the learned model."
   ]
  },
  {
   "cell_type": "code",
   "execution_count": 37,
   "metadata": {},
   "outputs": [
    {
     "output_type": "execute_result",
     "data": {
      "text/plain": "0.015544963021178521"
     },
     "metadata": {},
     "execution_count": 37
    }
   ],
   "source": [
    "brier_score_loss(\n",
    "    y_true=df_y_test['scores'],\n",
    "    y_prob=df_predictions['scores']\n",
    ")"
   ]
  },
  {
   "cell_type": "code",
   "execution_count": 43,
   "metadata": {
    "tags": []
   },
   "outputs": [
    {
     "output_type": "stream",
     "name": "stdout",
     "text": "0.12467944124537983\ninf\n"
    }
   ],
   "source": [
    "from sklearn.metrics import mean_squared_error\n",
    "rmse = math.sqrt(mean_squared_error(df_y_test['scores'],df_predictions['scores'] ))\n",
    "print(rmse)"
   ]
  },
  {
   "cell_type": "markdown",
   "metadata": {},
   "source": [
    "### Compute Brier score loss for goal conceded model"
   ]
  },
  {
   "cell_type": "markdown",
   "metadata": {},
   "source": [
    "The following cell computes the [Brier loss score](https://en.wikipedia.org/wiki/Brier_score) for the base rate predictions."
   ]
  },
  {
   "cell_type": "code",
   "execution_count": null,
   "metadata": {},
   "outputs": [],
   "source": [
    "# brier_score_loss(\n",
    "#     y_true=df_y_test['concedes'],\n",
    "#     y_prob=df_base_rates['concedes']\n",
    "# )"
   ]
  },
  {
   "cell_type": "markdown",
   "metadata": {},
   "source": [
    "The following cell computes the [Brier loss score](https://en.wikipedia.org/wiki/Brier_score) for the predictions by the learned model."
   ]
  },
  {
   "cell_type": "code",
   "execution_count": null,
   "metadata": {},
   "outputs": [],
   "source": [
    "# brier_score_loss(\n",
    "#     y_true=df_y_test['concedes'],\n",
    "#     y_prob=df_predictions['concedes']\n",
    "# )"
   ]
  },
  {
   "cell_type": "markdown",
   "metadata": {},
   "source": [
    "### Plot calibration curve and probability histogram"
   ]
  },
  {
   "cell_type": "markdown",
   "metadata": {},
   "source": [
    "The following cell creates a plot to show both a calibration curve and a probability histogram."
   ]
  },
  {
   "cell_type": "code",
   "execution_count": null,
   "metadata": {},
   "outputs": [],
   "source": [
    "fig, (ax1, ax2) = plt.subplots(\n",
    "    nrows=2,\n",
    "    ncols=1,\n",
    "    figsize=(8, 8),\n",
    "    gridspec_kw={\n",
    "        'height_ratios': [3, 1]\n",
    "    }\n",
    ")"
   ]
  },
  {
   "cell_type": "markdown",
   "metadata": {},
   "source": [
    "The following cell plots the *calibration curve* for the trained model."
   ]
  },
  {
   "cell_type": "code",
   "execution_count": null,
   "metadata": {},
   "outputs": [],
   "source": [
    "plot_calibration_curve(\n",
    "    y_true=df_y_test['scores'],\n",
    "    probas_list=[df_predictions['scores'].tolist()],\n",
    "    clf_names=['Goal scored model'],\n",
    "    n_bins=10,\n",
    "    ax=ax1\n",
    ")"
   ]
  },
  {
   "cell_type": "markdown",
   "metadata": {},
   "source": [
    "The following cell plots the histogram of the predictions produced by the trained model. Clearly, the majority of the examples is *negative*, which means that the start of the calibration curve is extremely important."
   ]
  },
  {
   "cell_type": "code",
   "execution_count": null,
   "metadata": {},
   "outputs": [],
   "source": [
    "df_predictions['scores'].plot.hist(\n",
    "    range=(0, 1),\n",
    "    bins=10,\n",
    "    ax=ax2\n",
    ")"
   ]
  },
  {
   "cell_type": "markdown",
   "metadata": {},
   "source": [
    "# Optimize classifiers"
   ]
  },
  {
   "cell_type": "markdown",
   "metadata": {},
   "source": [
    "In order to train *accurate* models, we perform a *grid search* over different combinations of parameter values for the most important hyperparameters for the learning algorithm. We will focus on the number of estimators and the maximum depth of the decision trees although more hyperparameters influence the performance of the trained models. The more combinations of parameter values need to be explored, the longer the *grid search* will take.\n",
    "\n",
    "Furthermore, restricting the number of estimators (i.e., the number of decision trees) and the maximum depth of the decision trees is an important mechanism to reduce the complexity of the trained models and thus also to avoid overfitting on the training data. The more decision trees that the learning algorithm can use and the deeper these decision trees can become, the more opportunities the learning algorithm has to *memorize* the training data rather than to discover patterns that generalize to the unseen test data."
   ]
  },
  {
   "cell_type": "markdown",
   "metadata": {},
   "source": [
    "## Train classifiers"
   ]
  },
  {
   "cell_type": "markdown",
   "metadata": {},
   "source": [
    "The following cell trains an XGBoost classifier for each label by trying different combinations of hyperparameters."
   ]
  },
  {
   "cell_type": "code",
   "execution_count": null,
   "metadata": {},
   "outputs": [],
   "source": [
    "%%time\n",
    "models_cv = {}\n",
    "for label in tqdm(labels):\n",
    "    model = GridSearchCV(\n",
    "        estimator=XGBClassifier(),\n",
    "        param_grid={\n",
    "            'n_estimators': [50, 100],\n",
    "            'max_depth': [3, 4]\n",
    "        },\n",
    "        scoring='neg_brier_score',\n",
    "        refit=True,  # train final model on full training set using best hyperparameters\n",
    "        verbose=10,\n",
    "        n_jobs=1\n",
    "    )\n",
    "    model.fit(\n",
    "        X=df_X_train[features],\n",
    "        y=df_y_train[label]\n",
    "    )\n",
    "    models_cv[label] = model"
   ]
  },
  {
   "cell_type": "markdown",
   "metadata": {},
   "source": [
    "**Note:** We have considered a manually selected set of features to represent the game states. In addition to optimizing the hyperparameters for the learning algorithm, we could also optimize the set of features to be considered by the learning algorithm. However, the XGBoost algorithm should be able to figure out by itself which features are most important to include in the model by the nature of the algorithm."
   ]
  },
  {
   "cell_type": "markdown",
   "metadata": {},
   "source": [
    "## Estimate probabilities"
   ]
  },
  {
   "cell_type": "markdown",
   "metadata": {},
   "source": [
    "The following cell estimates the probabilities for each label using the trained *baseline* models."
   ]
  },
  {
   "cell_type": "code",
   "execution_count": null,
   "metadata": {},
   "outputs": [],
   "source": [
    "dfs_predictions_cv = {}\n",
    "for label in tqdm(labels):\n",
    "    model = models_cv[label]\n",
    "    probabilities = model.predict_proba(\n",
    "        df_X_test[features]\n",
    "    )\n",
    "    predictions = probabilities[:, 1]\n",
    "    dfs_predictions_cv[label] = pd.Series(predictions, index=df_X_test.index)\n",
    "df_predictions_cv = pd.concat(dfs_predictions, axis=1)"
   ]
  },
  {
   "cell_type": "markdown",
   "metadata": {},
   "source": [
    "## Evaluate probabilities"
   ]
  },
  {
   "cell_type": "markdown",
   "metadata": {},
   "source": [
    "### Compute Brier score loss for goal scored model"
   ]
  },
  {
   "cell_type": "markdown",
   "metadata": {},
   "source": [
    "The following cell computes the [Brier loss score](https://en.wikipedia.org/wiki/Brier_score) for the base rate predictions."
   ]
  },
  {
   "cell_type": "code",
   "execution_count": null,
   "metadata": {},
   "outputs": [],
   "source": [
    "brier_score_loss(\n",
    "    y_true=df_y_test['scores'],\n",
    "    y_prob=df_base_rates['scores']\n",
    ")"
   ]
  },
  {
   "cell_type": "markdown",
   "metadata": {},
   "source": [
    "The following cell computes the [Brier loss score](https://en.wikipedia.org/wiki/Brier_score) for the predictions by the learned model."
   ]
  },
  {
   "cell_type": "code",
   "execution_count": null,
   "metadata": {},
   "outputs": [],
   "source": [
    "brier_score_loss(\n",
    "    y_true=df_y_test['scores'],\n",
    "    y_prob=df_predictions_cv['scores']\n",
    ")"
   ]
  },
  {
   "cell_type": "markdown",
   "metadata": {},
   "source": [
    "### Compute Brier score loss for goal conceded model"
   ]
  },
  {
   "cell_type": "markdown",
   "metadata": {},
   "source": [
    "The following cell computes the [Brier loss score](https://en.wikipedia.org/wiki/Brier_score) for the base rate predictions."
   ]
  },
  {
   "cell_type": "code",
   "execution_count": null,
   "metadata": {},
   "outputs": [],
   "source": [
    "# brier_score_loss(\n",
    "#     y_true=df_y_test['concedes'],\n",
    "#     y_prob=df_base_rates['concedes']\n",
    "# )"
   ]
  },
  {
   "cell_type": "markdown",
   "metadata": {},
   "source": [
    "The following cell computes the [Brier loss score](https://en.wikipedia.org/wiki/Brier_score) for the predictions by the learned model."
   ]
  },
  {
   "cell_type": "code",
   "execution_count": null,
   "metadata": {},
   "outputs": [],
   "source": [
    "# brier_score_loss(\n",
    "#     y_true=df_y_test['concedes'],\n",
    "#     y_prob=df_predictions_cv['concedes']\n",
    "# )"
   ]
  },
  {
   "cell_type": "markdown",
   "metadata": {},
   "source": [
    "### Plot calibration curve and probability histogram"
   ]
  },
  {
   "cell_type": "markdown",
   "metadata": {},
   "source": [
    "The following cell creates a plot to show both a calibration curve and a probability histogram."
   ]
  },
  {
   "cell_type": "code",
   "execution_count": null,
   "metadata": {},
   "outputs": [],
   "source": [
    "fig_cv, (ax1_cv, ax2_cv) = plt.subplots(\n",
    "    nrows=2,\n",
    "    ncols=1,\n",
    "    figsize=(8, 8),\n",
    "    gridspec_kw={\n",
    "        'height_ratios': [3, 1]\n",
    "    }\n",
    ")"
   ]
  },
  {
   "cell_type": "markdown",
   "metadata": {},
   "source": [
    "The following cell plots the *calibration curve* for the trained model."
   ]
  },
  {
   "cell_type": "code",
   "execution_count": null,
   "metadata": {},
   "outputs": [],
   "source": [
    "plot_calibration_curve(\n",
    "    y_true=df_y_test['scores'],\n",
    "    probas_list=[df_predictions_cv['scores'].tolist()],\n",
    "    clf_names=['Goal scored model'],\n",
    "    n_bins=10,\n",
    "    ax=ax1_cv\n",
    ")"
   ]
  },
  {
   "cell_type": "markdown",
   "metadata": {},
   "source": [
    "The following cell plots the histogram of the predictions produced by the trained model. Clearly, the majority of the examples is *negative*, which means that the start of the calibration curve is extremely important."
   ]
  },
  {
   "cell_type": "code",
   "execution_count": null,
   "metadata": {},
   "outputs": [],
   "source": [
    "df_predictions_cv['scores'].plot.hist(\n",
    "    range=(0, 1),\n",
    "    bins=10,\n",
    "    ax=ax2_cv\n",
    ")"
   ]
  },
  {
   "cell_type": "markdown",
   "metadata": {},
   "source": [
    "## Optional: Calibrate probabilities"
   ]
  },
  {
   "cell_type": "markdown",
   "metadata": {},
   "source": [
    "If the trained model produces poorly calibrated probability estimates, the probability estimates can be re-calibrated using [CalibratedClassifierCV](https://scikit-learn.org/stable/modules/generated/sklearn.calibration.CalibratedClassifierCV.html), which performs probability calibration with isotonic regression or logistic regression."
   ]
  },
  {
   "cell_type": "markdown",
   "metadata": {},
   "source": [
    "# Construct final classifiers"
   ]
  },
  {
   "cell_type": "markdown",
   "metadata": {},
   "source": [
    "Once we have found the *best* feature set and *best* hyperparameters for the learning algorithm, we can learn the final model.\n",
    "\n",
    "1. If we use `GridSearchCV` and the `refit` parameter was set to `True`, we can retrieve the *final* model, which has been re-trained on the entire training set, by accessing the `best_estimator_` attribute of the object.\n",
    "2. We can manually train the *final* model by creating a `XGBClassifier` object using the *best* hyperparameters and calling the `fit` method with the entire training set."
   ]
  },
  {
   "cell_type": "markdown",
   "metadata": {},
   "source": [
    "## Option 1: Retrieve classifier from grid search"
   ]
  },
  {
   "cell_type": "code",
   "execution_count": null,
   "metadata": {},
   "outputs": [],
   "source": [
    "model_scores = models_cv['scores']"
   ]
  },
  {
   "cell_type": "markdown",
   "metadata": {},
   "source": [
    "The following cell shows the *best* hyperparameter combination that was found using the *grid search*."
   ]
  },
  {
   "cell_type": "code",
   "execution_count": null,
   "metadata": {},
   "outputs": [],
   "source": [
    "pd.Series(\n",
    "    model_scores.best_params_\n",
    ")"
   ]
  },
  {
   "cell_type": "markdown",
   "metadata": {},
   "source": [
    "The following cell shows the full results of the *grid search*."
   ]
  },
  {
   "cell_type": "code",
   "execution_count": null,
   "metadata": {},
   "outputs": [],
   "source": [
    "pd.DataFrame(\n",
    "    model_scores.cv_results_\n",
    ")"
   ]
  },
  {
   "cell_type": "markdown",
   "metadata": {},
   "source": [
    "The following cell shows the hyperparameters that were used to re-train the model on the entire training set."
   ]
  },
  {
   "cell_type": "code",
   "execution_count": null,
   "metadata": {},
   "outputs": [],
   "source": [
    "pd.Series(\n",
    "    model_scores.best_estimator_.get_params()\n",
    ")"
   ]
  },
  {
   "cell_type": "markdown",
   "metadata": {},
   "source": [
    "The following cell retrieves the final `XGBClassifier` object from the `GridSearchCV` object."
   ]
  },
  {
   "cell_type": "code",
   "execution_count": null,
   "metadata": {},
   "outputs": [],
   "source": [
    "model_scores_final = model_scores.best_estimator_"
   ]
  },
  {
   "cell_type": "code",
   "execution_count": null,
   "metadata": {},
   "outputs": [],
   "source": [
    "model_scores_final"
   ]
  },
  {
   "cell_type": "markdown",
   "metadata": {},
   "source": [
    "## Option 2: Train classifier using optimal hyperparameters"
   ]
  },
  {
   "cell_type": "markdown",
   "metadata": {},
   "source": [
    "The following cell constructs a new `XGBoostClassifier` object using the *best* hyperparameters that were found by the *grid search*."
   ]
  },
  {
   "cell_type": "code",
   "execution_count": null,
   "metadata": {},
   "outputs": [],
   "source": [
    "model_scores_final = XGBClassifier(\n",
    "    n_estimators=100,\n",
    "    max_depth=4\n",
    ")"
   ]
  },
  {
   "cell_type": "markdown",
   "metadata": {},
   "source": [
    "The following cell fits the `XGBoostClassifier` object on the entire training set."
   ]
  },
  {
   "cell_type": "code",
   "execution_count": null,
   "metadata": {},
   "outputs": [],
   "source": [
    "model_scores_final.fit(\n",
    "    X=df_X_train[features],\n",
    "    y=df_y_train[label]\n",
    ")"
   ]
  }
 ],
 "metadata": {
  "kernelspec": {
   "display_name": "Python 3.7.8 64-bit",
   "language": "python",
   "name": "python_defaultSpec_1600448818824"
  },
  "language_info": {
   "codemirror_mode": {
    "name": "ipython",
    "version": 3
   },
   "file_extension": ".py",
   "mimetype": "text/x-python",
   "name": "python",
   "nbconvert_exporter": "python",
   "pygments_lexer": "ipython3",
   "version": "3.7.8-final"
  },
  "toc": {
   "base_numbering": 1,
   "nav_menu": {},
   "number_sections": true,
   "sideBar": true,
   "skip_h1_title": false,
   "title_cell": "Table of Contents",
   "title_sidebar": "Contents",
   "toc_cell": false,
   "toc_position": {
    "height": "calc(100% - 180px)",
    "left": "10px",
    "top": "150px",
    "width": "498.594px"
   },
   "toc_section_display": true,
   "toc_window_display": false
  }
 },
 "nbformat": 4,
 "nbformat_minor": 4
}